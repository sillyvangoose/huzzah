{
 "cells": [
  {
   "cell_type": "markdown",
   "id": "74030cbd",
   "metadata": {},
   "source": [
    "# Week 1: Getting Started with Anaconda, Jupyter Notebook and Python\n",
    "A: Why I joined the course, for motivation, vision, aspiration? Aspiration!\n",
    "B: No real prior experience with AI beyond encountering it in every day life.\n",
    "C: Just in general more about AI, I want to immerse myself in it and branch out my knowledge!\n",
    "message + message prints it twice with no space, message*3 does it three times with no spaces in between, message in brackets 0 prints only the first letter, i think bc each number is associated with the order of the letter (0 is first letter 1 is second letter)\n",
    "I think message is a good variable name for the time being, but it should definitely change to fit the situation as time goes on"
   ]
  },
  {
   "cell_type": "code",
   "execution_count": 17,
   "id": "267330d3",
   "metadata": {},
   "outputs": [
    {
     "name": "stdout",
     "output_type": "stream",
     "text": [
      "buying my wii was a mistake\n"
     ]
    }
   ],
   "source": [
    "variable = \"buying my wii was a mistake\"\n",
    "print (variable)"
   ]
  },
  {
   "cell_type": "code",
   "execution_count": 14,
   "id": "648be6e1",
   "metadata": {},
   "outputs": [],
   "source": [
    "from IPython.display import *"
   ]
  },
  {
   "cell_type": "code",
   "execution_count": 16,
   "id": "6d202e39",
   "metadata": {},
   "outputs": [
    {
     "data": {
      "text/html": [
       "\n",
       "        <iframe\n",
       "            width=\"400\"\n",
       "            height=\"300\"\n",
       "            src=\"https://www.youtube.com/embed/bsyY9m7Q2KI?si=dSl1FCb21rM7DkUM\"\n",
       "            frameborder=\"0\"\n",
       "            allowfullscreen\n",
       "            \n",
       "        ></iframe>\n",
       "        "
      ],
      "text/plain": [
       "<IPython.lib.display.YouTubeVideo at 0x2531d90dd50>"
      ]
     },
     "execution_count": 16,
     "metadata": {},
     "output_type": "execute_result"
    }
   ],
   "source": [
    "YouTubeVideo(\"bsyY9m7Q2KI?si=dSl1FCb21rM7DkUM\")"
   ]
  },
  {
   "cell_type": "code",
   "execution_count": null,
   "id": "3009d040",
   "metadata": {},
   "outputs": [],
   "source": []
  }
 ],
 "metadata": {
  "kernelspec": {
   "display_name": "Python 3 (ipykernel)",
   "language": "python",
   "name": "python3"
  },
  "language_info": {
   "codemirror_mode": {
    "name": "ipython",
    "version": 3
   },
   "file_extension": ".py",
   "mimetype": "text/x-python",
   "name": "python",
   "nbconvert_exporter": "python",
   "pygments_lexer": "ipython3",
   "version": "3.11.5"
  }
 },
 "nbformat": 4,
 "nbformat_minor": 5
}
